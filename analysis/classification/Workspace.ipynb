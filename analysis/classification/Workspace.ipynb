{
 "cells": [
  {
   "cell_type": "code",
   "execution_count": null,
   "id": "7f4c714d",
   "metadata": {},
   "outputs": [],
   "source": [
    "import streamlit as st\n",
    "import pandas as pd\n",
    "import numpy as np\n",
    "from utils.helpers import user_dir, repo_dir, data_dir\n",
    "import hydralit_components as hc\n",
    "import time\n",
    "from datetime import datetime\n",
    "from google.cloud import bigquery\n",
    "from google.oauth2 import service_account\n",
    "from google.api_core.exceptions import Conflict, NotFound, Forbidden\n",
    "# import pydata_google_auth\n",
    "import threading\n",
    "from utils.simple_auth import *\n",
    "\n",
    "\n",
    "\n",
    "labelled_schema = [\n",
    "    bigquery.SchemaField(\n",
    "        \"label\", \"STRING\", mode=\"REQUIRED\",\n",
    "        description=\"RA-assigned label for pair\"),\n",
    "    bigquery.SchemaField(\n",
    "        \"labeler\", \"STRING\", mode=\"REQUIRED\",\n",
    "        description=\"Which RA labeled this pair\"),\n",
    "    bigquery.SchemaField(\n",
    "        \"reason\", \"STRING\", mode=\"NULLABLE\",\n",
    "        description=\"RA-specified reason for labeling pair as violative\"),\n",
    "    bigquery.SchemaField(\n",
    "        \"other_reason\", \"STRING\", mode=\"NULLABLE\",\n",
    "        description=\"RA-specified other reason\"),\n",
    "    bigquery.SchemaField(\n",
    "        \"regret_id\", \"STRING\", mode=\"REQUIRED\",\n",
    "        description=\"YouTube video ID for regretted video\"),\n",
    "    bigquery.SchemaField(\n",
    "        \"recommendation_id\", \"STRING\", mode=\"REQUIRED\",\n",
    "        description=\"YouTube video ID for recommended video\"),\n",
    "    bigquery.SchemaField(\n",
    "        \"regret_title\", \"STRING\", mode=\"REQUIRED\",\n",
    "        description=\"Video title for regretted video\"),\n",
    "    bigquery.SchemaField(\n",
    "        \"recommendation_title\", \"STRING\", mode=\"REQUIRED\",\n",
    "        description=\"Video title for recommended video\"),\n",
    "    bigquery.SchemaField(\n",
    "        \"regret_description\", \"STRING\", mode=\"REQUIRED\",\n",
    "        description=\"Video description for regretted video\"),\n",
    "    bigquery.SchemaField(\n",
    "        \"recommendation_description\", \"STRING\", mode=\"REQUIRED\",\n",
    "        description=\"Video description for recommended video\"),\n",
    "    bigquery.SchemaField(\n",
    "        \"regret_channel\", \"STRING\", mode=\"REQUIRED\",\n",
    "        description=\"Video channel for regretted video\"),\n",
    "    bigquery.SchemaField(\n",
    "        \"recommendation_channel\", \"STRING\", mode=\"REQUIRED\",\n",
    "        description=\"Video channel for recommended video\"),\n",
    "    bigquery.SchemaField(\n",
    "        \"label_time\", \"DATETIME\", mode=\"REQUIRED\",\n",
    "        description=\"Date & time at which the data is labelled\"),\n",
    "    bigquery.SchemaField(\n",
    "        \"selection_method\", \"STRING\", mode=\"REQUIRED\",\n",
    "        description=\"How this pair was selected and by which model\"),\n",
    "    bigquery.SchemaField(\n",
    "        \"disturbing\", \"STRING\", mode=\"REQUIRED\",\n",
    "        description=\"Whether the video is disturbing, hateful, or misinformation\"\n",
    "    )\n",
    "]\n",
    "\n",
    "\n",
    "corpus_table_id = \"regrets-reporter-dev.ra_can_read.pairs_sample\"\n",
    "labelled_table_id = \"regrets-reporter-dev.ra_can_write.labelled_ra\"\n",
    "language_table_id = \"regrets-reporter-dev.ra_can_read.langs\"\n",
    "model_table_id = \"regrets-reporter-dev.ra_can_read.model_predictions_v1\"\n",
    "\n",
    "_table_created = {\n",
    "    corpus_table_id: False,\n",
    "    labelled_table_id: False,\n",
    "}\n",
    "\n",
    "\n",
    "def table_exists(bq_client, table):\n",
    "    if _table_created[table]:\n",
    "        return True\n",
    "    try:\n",
    "        bq_client.get_table(table)\n",
    "        return True\n",
    "    except (NotFound, Forbidden):\n",
    "        return False\n",
    "\n",
    "\n",
    "def get_table(table, schema):\n",
    "    return bigquery.Table(table, schema=schema)"
   ]
  },
  {
   "cell_type": "code",
   "execution_count": null,
   "id": "6e006d53",
   "metadata": {},
   "outputs": [],
   "source": [
    "def connect_to_db(user):\n",
    "    if user == 'admin':\n",
    "        # TODO: BEFORE PROD DEPLOYMENT SWITCH BACK TO USER AUTHENTICATION FOR ADMIN\n",
    "        # credentials = pydata_google_auth.get_user_credentials(\n",
    "        #    ['https://www.googleapis.com/auth/bigquery'],\n",
    "        #    use_local_webserver=True,\n",
    "        # )\n",
    "        credentials = service_account.Credentials.from_service_account_info(\n",
    "            dict(**st.secrets.ranu_testing), scopes=[\"https://www.googleapis.com/auth/cloud-platform\"],\n",
    "        )\n",
    "\n",
    "    else:\n",
    "        credentials = service_account.Credentials.from_service_account_info(\n",
    "            dict(**st.secrets.bq_service_account), scopes=[\"https://www.googleapis.com/auth/cloud-platform\"],\n",
    "        )\n",
    "    project_id = \"regrets-reporter-dev\"\n",
    "    bq_client = bigquery.Client(\n",
    "        project=project_id, credentials=credentials)\n",
    "    return bq_client"
   ]
  },
  {
   "cell_type": "code",
   "execution_count": null,
   "id": "603f0dbb",
   "metadata": {},
   "outputs": [],
   "source": [
    "bq_client = connect_to_db('admin')"
   ]
  },
  {
   "cell_type": "markdown",
   "id": "5308827f",
   "metadata": {},
   "source": [
    "bq_client.query(\n",
    "                f\"DELETE FROM {labelled_table_id} WHERE labeler='ranu'\")"
   ]
  },
  {
   "cell_type": "code",
   "execution_count": null,
   "id": "e99c6676",
   "metadata": {},
   "outputs": [],
   "source": [
    "df_labelled = bq_client.query(\n",
    "                f\"SELECT * FROM {labelled_table_id}\").result().to_dataframe()"
   ]
  },
  {
   "cell_type": "code",
   "execution_count": null,
   "id": "b46f8d2c",
   "metadata": {},
   "outputs": [],
   "source": [
    "df_labelled"
   ]
  },
  {
   "cell_type": "code",
   "execution_count": null,
   "id": "7af85314",
   "metadata": {},
   "outputs": [],
   "source": []
  },
  {
   "cell_type": "code",
   "execution_count": null,
   "id": "2472864d",
   "metadata": {},
   "outputs": [],
   "source": []
  },
  {
   "cell_type": "code",
   "execution_count": null,
   "id": "deab4703",
   "metadata": {},
   "outputs": [],
   "source": []
  },
  {
   "cell_type": "code",
   "execution_count": null,
   "id": "61cbc997",
   "metadata": {
    "scrolled": true
   },
   "outputs": [],
   "source": [
    "get_table(labelled_table_id, labelled_schema)"
   ]
  },
  {
   "cell_type": "code",
   "execution_count": null,
   "id": "34b7e3b9",
   "metadata": {},
   "outputs": [],
   "source": []
  }
 ],
 "metadata": {
  "kernelspec": {
   "display_name": "Python 3",
   "language": "python",
   "name": "python3"
  },
  "language_info": {
   "codemirror_mode": {
    "name": "ipython",
    "version": 3
   },
   "file_extension": ".py",
   "mimetype": "text/x-python",
   "name": "python",
   "nbconvert_exporter": "python",
   "pygments_lexer": "ipython3",
   "version": "3.8.10"
  }
 },
 "nbformat": 4,
 "nbformat_minor": 5
}
